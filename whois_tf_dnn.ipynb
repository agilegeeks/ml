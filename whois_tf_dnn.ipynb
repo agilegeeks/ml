{
 "cells": [
  {
   "cell_type": "code",
   "execution_count": 28,
   "metadata": {
    "collapsed": false
   },
   "outputs": [],
   "source": [
    "from __future__ import absolute_import\n",
    "from __future__ import division\n",
    "from __future__ import print_function\n",
    "\n",
    "import os\n",
    "\n",
    "import numpy as np\n",
    "import tensorflow as tf\n",
    "\n",
    "WHOIS_TRAINING = \"./datasets/rotld_whois/whois_training.csv\""
   ]
  },
  {
   "cell_type": "code",
   "execution_count": 29,
   "metadata": {
    "collapsed": false
   },
   "outputs": [],
   "source": [
    "training_set = tf.contrib.learn.datasets.base.load_csv_without_header(\n",
    "      filename=WHOIS_TRAINING,\n",
    "      target_dtype=np.int,\n",
    "      features_dtype=np.float32)"
   ]
  },
  {
   "cell_type": "code",
   "execution_count": 30,
   "metadata": {
    "collapsed": true
   },
   "outputs": [],
   "source": [
    "feature_columns = [tf.contrib.layers.real_valued_column(\"\", dimension=3)]"
   ]
  },
  {
   "cell_type": "code",
   "execution_count": 31,
   "metadata": {
    "collapsed": false
   },
   "outputs": [
    {
     "name": "stdout",
     "output_type": "stream",
     "text": [
      "INFO:tensorflow:Using default config.\n",
      "INFO:tensorflow:Using config: {'_cluster_spec': <tensorflow.python.training.server_lib.ClusterSpec object at 0x110659278>, '_task_id': 0, '_keep_checkpoint_max': 5, '_is_chief': True, '_save_summary_steps': 100, '_evaluation_master': '', '_master': '', '_environment': 'local', '_task_type': None, '_keep_checkpoint_every_n_hours': 10000, '_num_ps_replicas': 0, '_tf_random_seed': None, '_tf_config': gpu_options {\n",
      "  per_process_gpu_memory_fraction: 1\n",
      "}\n",
      ", '_save_checkpoints_steps': None, '_save_checkpoints_secs': 600}\n"
     ]
    }
   ],
   "source": [
    "classifier = tf.contrib.learn.DNNClassifier(feature_columns=feature_columns,\n",
    "                                              hidden_units=[10, 20, 10],\n",
    "                                              n_classes=4,\n",
    "                                              model_dir=\"/tmp/whois_model\")"
   ]
  },
  {
   "cell_type": "code",
   "execution_count": 32,
   "metadata": {
    "collapsed": false
   },
   "outputs": [
    {
     "name": "stdout",
     "output_type": "stream",
     "text": [
      "WARNING:tensorflow:From /Library/Frameworks/Python.framework/Versions/3.4/lib/python3.4/site-packages/tensorflow/contrib/learn/python/learn/estimators/head.py:1362: scalar_summary (from tensorflow.python.ops.logging_ops) is deprecated and will be removed after 2016-11-30.\n",
      "Instructions for updating:\n",
      "Please switch to tf.summary.scalar. Note that tf.summary.scalar uses the node name instead of the tag. This means that TensorFlow will automatically de-duplicate summary names based on the scope they are created in. Also, passing a tensor or list of tags to a scalar summary op is no longer supported.\n",
      "INFO:tensorflow:Create CheckpointSaverHook.\n",
      "INFO:tensorflow:Saving checkpoints for 2001 into /tmp/whois_model/model.ckpt.\n",
      "INFO:tensorflow:loss = 0.195962, step = 2001\n",
      "INFO:tensorflow:global_step/sec: 1375.36\n",
      "INFO:tensorflow:loss = 0.0189917, step = 2101\n",
      "INFO:tensorflow:global_step/sec: 1403.81\n",
      "INFO:tensorflow:loss = 0.0173646, step = 2201\n",
      "INFO:tensorflow:global_step/sec: 1459.73\n",
      "INFO:tensorflow:loss = 0.0161528, step = 2301\n",
      "INFO:tensorflow:global_step/sec: 1400.93\n",
      "INFO:tensorflow:loss = 0.0150024, step = 2401\n",
      "INFO:tensorflow:global_step/sec: 1392.47\n",
      "INFO:tensorflow:loss = 0.014155, step = 2501\n",
      "INFO:tensorflow:global_step/sec: 1324.05\n",
      "INFO:tensorflow:loss = 0.0131807, step = 2601\n",
      "INFO:tensorflow:global_step/sec: 1371.05\n",
      "INFO:tensorflow:loss = 0.0124359, step = 2701\n",
      "INFO:tensorflow:global_step/sec: 1394.81\n",
      "INFO:tensorflow:loss = 0.0117027, step = 2801\n",
      "INFO:tensorflow:global_step/sec: 1378.06\n",
      "INFO:tensorflow:loss = 0.0109863, step = 2901\n",
      "INFO:tensorflow:global_step/sec: 1369.49\n",
      "INFO:tensorflow:loss = 0.0103855, step = 3001\n",
      "INFO:tensorflow:global_step/sec: 1443.23\n",
      "INFO:tensorflow:loss = 0.00987566, step = 3101\n",
      "INFO:tensorflow:global_step/sec: 1328.39\n",
      "INFO:tensorflow:loss = 0.00936674, step = 3201\n",
      "INFO:tensorflow:global_step/sec: 1376.33\n",
      "INFO:tensorflow:loss = 0.00887109, step = 3301\n",
      "INFO:tensorflow:global_step/sec: 1364.29\n",
      "INFO:tensorflow:loss = 0.00842336, step = 3401\n",
      "INFO:tensorflow:global_step/sec: 1365.88\n",
      "INFO:tensorflow:loss = 0.00807677, step = 3501\n",
      "INFO:tensorflow:global_step/sec: 1382.15\n",
      "INFO:tensorflow:loss = 0.00771115, step = 3601\n",
      "INFO:tensorflow:global_step/sec: 1388.97\n",
      "INFO:tensorflow:loss = 0.00736703, step = 3701\n",
      "INFO:tensorflow:global_step/sec: 1419.32\n",
      "INFO:tensorflow:loss = 0.00705196, step = 3801\n",
      "INFO:tensorflow:global_step/sec: 1275.26\n",
      "INFO:tensorflow:loss = 0.0067566, step = 3901\n",
      "INFO:tensorflow:Saving checkpoints for 4000 into /tmp/whois_model/model.ckpt.\n",
      "INFO:tensorflow:Loss for final step: 0.00645538.\n"
     ]
    },
    {
     "data": {
      "text/plain": [
       "DNNClassifier(params={'head': <tensorflow.contrib.learn.python.learn.estimators.head._MultiClassHead object at 0x110659470>, 'input_layer_min_slice_size': None, 'embedding_lr_multipliers': None, 'dropout': None, 'optimizer': None, 'activation_fn': <function relu at 0x10bbfd2f0>, 'feature_columns': (_RealValuedColumn(column_name='', dimension=3, default_value=None, dtype=tf.float32, normalizer=None),), 'gradient_clip_norm': None, 'hidden_units': [10, 20, 10]})"
      ]
     },
     "execution_count": 32,
     "metadata": {},
     "output_type": "execute_result"
    }
   ],
   "source": [
    "# Define the training inputs\n",
    "def get_train_inputs():\n",
    "    x = tf.constant(training_set.data)\n",
    "    y = tf.constant(training_set.target)\n",
    "\n",
    "    return x, y\n",
    "\n",
    "# Fit model.\n",
    "classifier.fit(input_fn=get_train_inputs, steps=2000)"
   ]
  },
  {
   "cell_type": "code",
   "execution_count": 37,
   "metadata": {
    "collapsed": false
   },
   "outputs": [
    {
     "name": "stdout",
     "output_type": "stream",
     "text": [
      "New Samples, Class Predictions:    [0, 0, 1, 1, 1, 1, 2, 2, 2, 3, 3]\n",
      "\n"
     ]
    }
   ],
   "source": [
    "def new_samples():\n",
    "    return np.array(\n",
    "      [[3.2, 0.56, 3.9],\n",
    "       [2.2, 1.1, 2.6],\n",
    "       [6.2, 1.2, 6.92],\n",
    "       [11.2, 1.2, 12.52],\n",
    "       [12.32, 0.942, 13.6],\n",
    "       [6.2, 1.2, 6.92],\n",
    "       [1.21, 7.87, 4.92],\n",
    "       [1.21, 12.87, 4.92],\n",
    "       [5.21, 12.87, 4.92],\n",
    "       [9.2, 6.32, 12.23],\n",
    "       [12.2, 18.32, 15.23],\n",
    "      ], dtype=np.float32)\n",
    "\n",
    "predictions = list(classifier.predict(input_fn=new_samples))\n",
    "\n",
    "print(\n",
    "      \"New Samples, Class Predictions:    {}\\n\"\n",
    "      .format(predictions))"
   ]
  },
  {
   "cell_type": "code",
   "execution_count": null,
   "metadata": {
    "collapsed": true
   },
   "outputs": [],
   "source": []
  }
 ],
 "metadata": {
  "kernelspec": {
   "display_name": "Python 3",
   "language": "python",
   "name": "python3"
  },
  "language_info": {
   "codemirror_mode": {
    "name": "ipython",
    "version": 3
   },
   "file_extension": ".py",
   "mimetype": "text/x-python",
   "name": "python",
   "nbconvert_exporter": "python",
   "pygments_lexer": "ipython3",
   "version": "3.4.4"
  }
 },
 "nbformat": 4,
 "nbformat_minor": 2
}
