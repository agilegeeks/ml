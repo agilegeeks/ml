{
 "cells": [
  {
   "cell_type": "code",
   "execution_count": 1,
   "metadata": {
    "collapsed": false
   },
   "outputs": [],
   "source": [
    "from __future__ import absolute_import\n",
    "from __future__ import division\n",
    "from __future__ import print_function\n",
    "\n",
    "import os\n",
    "\n",
    "import numpy as np\n",
    "import tensorflow as tf\n",
    "\n",
    "WHOIS_TRAINING = \"./datasets/rotld_whois/whois_training.csv\""
   ]
  },
  {
   "cell_type": "code",
   "execution_count": 2,
   "metadata": {
    "collapsed": false
   },
   "outputs": [],
   "source": [
    "training_set = tf.contrib.learn.datasets.base.load_csv_without_header(\n",
    "      filename=WHOIS_TRAINING,\n",
    "      target_dtype=np.int,\n",
    "      features_dtype=np.float32)"
   ]
  },
  {
   "cell_type": "code",
   "execution_count": 3,
   "metadata": {
    "collapsed": true
   },
   "outputs": [],
   "source": [
    "feature_columns = [tf.contrib.layers.real_valued_column(\"\", dimension=3)]"
   ]
  },
  {
   "cell_type": "code",
   "execution_count": 4,
   "metadata": {
    "collapsed": false
   },
   "outputs": [
    {
     "name": "stdout",
     "output_type": "stream",
     "text": [
      "INFO:tensorflow:Using default config.\n",
      "INFO:tensorflow:Using config: {'_num_ps_replicas': 0, '_environment': 'local', '_save_checkpoints_secs': 600, '_keep_checkpoint_max': 5, '_is_chief': True, '_evaluation_master': '', '_tf_config': gpu_options {\n",
      "  per_process_gpu_memory_fraction: 1\n",
      "}\n",
      ", '_task_id': 0, '_save_summary_steps': 100, '_cluster_spec': <tensorflow.python.training.server_lib.ClusterSpec object at 0x10c3a8630>, '_keep_checkpoint_every_n_hours': 10000, '_tf_random_seed': None, '_master': '', '_task_type': None, '_save_checkpoints_steps': None}\n"
     ]
    }
   ],
   "source": [
    "classifier = tf.contrib.learn.DNNClassifier(feature_columns=feature_columns,\n",
    "                                              hidden_units=[10, 20, 10],\n",
    "                                              n_classes=4,\n",
    "                                              model_dir=\"/tmp/whois_model\")"
   ]
  },
  {
   "cell_type": "code",
   "execution_count": 5,
   "metadata": {
    "collapsed": false
   },
   "outputs": [
    {
     "name": "stdout",
     "output_type": "stream",
     "text": [
      "WARNING:tensorflow:From /Library/Frameworks/Python.framework/Versions/3.4/lib/python3.4/site-packages/tensorflow/contrib/learn/python/learn/estimators/head.py:1362: scalar_summary (from tensorflow.python.ops.logging_ops) is deprecated and will be removed after 2016-11-30.\n",
      "Instructions for updating:\n",
      "Please switch to tf.summary.scalar. Note that tf.summary.scalar uses the node name instead of the tag. This means that TensorFlow will automatically de-duplicate summary names based on the scope they are created in. Also, passing a tensor or list of tags to a scalar summary op is no longer supported.\n",
      "INFO:tensorflow:Create CheckpointSaverHook.\n",
      "INFO:tensorflow:Saving checkpoints for 4001 into /tmp/whois_model/model.ckpt.\n",
      "INFO:tensorflow:step = 4001, loss = 0.00648175\n",
      "INFO:tensorflow:global_step/sec: 1425.98\n",
      "INFO:tensorflow:step = 4101, loss = 0.00622364\n",
      "INFO:tensorflow:global_step/sec: 1434.17\n",
      "INFO:tensorflow:step = 4201, loss = 0.00598173\n",
      "INFO:tensorflow:global_step/sec: 1440.47\n",
      "INFO:tensorflow:step = 4301, loss = 0.00575168\n",
      "INFO:tensorflow:global_step/sec: 1423.99\n",
      "INFO:tensorflow:step = 4401, loss = 0.00552453\n",
      "INFO:tensorflow:global_step/sec: 1340.29\n",
      "INFO:tensorflow:step = 4501, loss = 0.00532351\n",
      "INFO:tensorflow:global_step/sec: 1441.29\n",
      "INFO:tensorflow:step = 4601, loss = 0.0051464\n",
      "INFO:tensorflow:global_step/sec: 1471.05\n",
      "INFO:tensorflow:step = 4701, loss = 0.00495537\n",
      "INFO:tensorflow:global_step/sec: 1475.12\n",
      "INFO:tensorflow:step = 4801, loss = 0.00480496\n",
      "INFO:tensorflow:global_step/sec: 1396.08\n",
      "INFO:tensorflow:step = 4901, loss = 0.00463479\n",
      "INFO:tensorflow:global_step/sec: 1394.48\n",
      "INFO:tensorflow:step = 5001, loss = 0.00447551\n",
      "INFO:tensorflow:global_step/sec: 1226.72\n",
      "INFO:tensorflow:step = 5101, loss = 0.00433245\n",
      "INFO:tensorflow:global_step/sec: 1408.93\n",
      "INFO:tensorflow:step = 5201, loss = 0.00420503\n",
      "INFO:tensorflow:global_step/sec: 1218.65\n",
      "INFO:tensorflow:step = 5301, loss = 0.00408732\n",
      "INFO:tensorflow:global_step/sec: 1337.93\n",
      "INFO:tensorflow:step = 5401, loss = 0.00395265\n",
      "INFO:tensorflow:global_step/sec: 1268.63\n",
      "INFO:tensorflow:step = 5501, loss = 0.00384919\n",
      "INFO:tensorflow:global_step/sec: 1322.33\n",
      "INFO:tensorflow:step = 5601, loss = 0.00374023\n",
      "INFO:tensorflow:global_step/sec: 1284.6\n",
      "INFO:tensorflow:step = 5701, loss = 0.00363128\n",
      "INFO:tensorflow:global_step/sec: 1323.72\n",
      "INFO:tensorflow:step = 5801, loss = 0.00352632\n",
      "INFO:tensorflow:global_step/sec: 1000.07\n",
      "INFO:tensorflow:step = 5901, loss = 0.00343113\n",
      "INFO:tensorflow:Saving checkpoints for 6000 into /tmp/whois_model/model.ckpt.\n",
      "INFO:tensorflow:Loss for final step: 0.00333369.\n"
     ]
    },
    {
     "data": {
      "text/plain": [
       "DNNClassifier(params={'feature_columns': (_RealValuedColumn(column_name='', dimension=3, default_value=None, dtype=tf.float32, normalizer=None),), 'dropout': None, 'embedding_lr_multipliers': None, 'hidden_units': [10, 20, 10], 'input_layer_min_slice_size': None, 'head': <tensorflow.contrib.learn.python.learn.estimators.head._MultiClassHead object at 0x10c3a8668>, 'gradient_clip_norm': None, 'optimizer': None, 'activation_fn': <function relu at 0x10bbf42f0>})"
      ]
     },
     "execution_count": 5,
     "metadata": {},
     "output_type": "execute_result"
    }
   ],
   "source": [
    "# Define the training inputs\n",
    "def get_train_inputs():\n",
    "    x = tf.constant(training_set.data)\n",
    "    y = tf.constant(training_set.target)\n",
    "\n",
    "    return x, y\n",
    "\n",
    "# Fit model.\n",
    "classifier.fit(input_fn=get_train_inputs, steps=2000)"
   ]
  },
  {
   "cell_type": "code",
   "execution_count": 6,
   "metadata": {
    "collapsed": false
   },
   "outputs": [
    {
     "name": "stdout",
     "output_type": "stream",
     "text": [
      "New Samples, Class Predictions:    [0, 0, 1, 1, 1, 1, 2, 2, 2, 3, 3]\n",
      "\n"
     ]
    }
   ],
   "source": [
    "def new_samples():\n",
    "    return np.array(\n",
    "      [[3.2, 0.56, 3.9],\n",
    "       [2.2, 1.1, 2.6],\n",
    "       [6.2, 1.2, 6.92],\n",
    "       [11.2, 1.2, 12.52],\n",
    "       [12.32, 0.942, 13.6],\n",
    "       [6.2, 1.2, 6.92],\n",
    "       [1.21, 7.87, 4.92],\n",
    "       [1.21, 12.87, 4.92],\n",
    "       [5.21, 12.87, 4.92],\n",
    "       [9.2, 6.32, 12.23],\n",
    "       [12.2, 18.32, 15.23],\n",
    "      ], dtype=np.float32)\n",
    "\n",
    "predictions = list(classifier.predict(input_fn=new_samples))\n",
    "\n",
    "print(\n",
    "      \"New Samples, Class Predictions:    {}\\n\"\n",
    "      .format(predictions))"
   ]
  },
  {
   "cell_type": "code",
   "execution_count": null,
   "metadata": {
    "collapsed": true
   },
   "outputs": [],
   "source": []
  }
 ],
 "metadata": {
  "kernelspec": {
   "display_name": "Python 3",
   "language": "python",
   "name": "python3"
  },
  "language_info": {
   "codemirror_mode": {
    "name": "ipython",
    "version": 3
   },
   "file_extension": ".py",
   "mimetype": "text/x-python",
   "name": "python",
   "nbconvert_exporter": "python",
   "pygments_lexer": "ipython3",
   "version": "3.4.4"
  }
 },
 "nbformat": 4,
 "nbformat_minor": 2
}
