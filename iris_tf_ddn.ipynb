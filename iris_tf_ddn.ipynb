{
 "cells": [
  {
   "cell_type": "code",
   "execution_count": 19,
   "metadata": {
    "collapsed": false
   },
   "outputs": [],
   "source": [
    "from __future__ import absolute_import\n",
    "from __future__ import division\n",
    "from __future__ import print_function\n",
    "\n",
    "import os\n",
    "\n",
    "import numpy as np\n",
    "import tensorflow as tf"
   ]
  },
  {
   "cell_type": "code",
   "execution_count": 20,
   "metadata": {
    "collapsed": true
   },
   "outputs": [],
   "source": [
    "# Data sets\n",
    "IRIS_TRAINING = \"./datasets/iris/iris_training.csv\"\n",
    "IRIS_TEST = \"./datasets/iris/iris_test.csv\"\n"
   ]
  },
  {
   "cell_type": "code",
   "execution_count": 21,
   "metadata": {
    "collapsed": true
   },
   "outputs": [],
   "source": [
    "training_set = tf.contrib.learn.datasets.base.load_csv_with_header(\n",
    "      filename=IRIS_TRAINING,\n",
    "      target_dtype=np.int,\n",
    "      features_dtype=np.float32)"
   ]
  },
  {
   "cell_type": "code",
   "execution_count": 22,
   "metadata": {
    "collapsed": true
   },
   "outputs": [],
   "source": [
    "test_set = tf.contrib.learn.datasets.base.load_csv_with_header(\n",
    "      filename=IRIS_TEST,\n",
    "      target_dtype=np.int,\n",
    "      features_dtype=np.float32)"
   ]
  },
  {
   "cell_type": "code",
   "execution_count": 23,
   "metadata": {
    "collapsed": true
   },
   "outputs": [],
   "source": [
    "# Specify that all features have real-value data\n",
    "feature_columns = [tf.contrib.layers.real_valued_column(\"\", dimension=4)]"
   ]
  },
  {
   "cell_type": "code",
   "execution_count": 30,
   "metadata": {
    "collapsed": false
   },
   "outputs": [
    {
     "name": "stdout",
     "output_type": "stream",
     "text": [
      "INFO:tensorflow:Using default config.\n",
      "INFO:tensorflow:Using config: {'_master': '', '_save_checkpoints_secs': 600, '_evaluation_master': '', '_is_chief': True, '_task_type': None, '_tf_random_seed': None, '_num_ps_replicas': 0, '_cluster_spec': <tensorflow.python.training.server_lib.ClusterSpec object at 0x11192f1d0>, '_save_summary_steps': 100, '_save_checkpoints_steps': None, '_task_id': 0, '_tf_config': gpu_options {\n",
      "  per_process_gpu_memory_fraction: 1\n",
      "}\n",
      ", '_keep_checkpoint_every_n_hours': 10000, '_environment': 'local', '_keep_checkpoint_max': 5}\n"
     ]
    }
   ],
   "source": [
    "# Build 3 layer DNN with 10, 20, 10 units respectively.\n",
    "classifier = tf.contrib.learn.DNNClassifier(feature_columns=feature_columns,\n",
    "                                              hidden_units=[10, 20, 10],\n",
    "                                              n_classes=3,\n",
    "                                              model_dir=\"/tmp/iris_model\")"
   ]
  },
  {
   "cell_type": "code",
   "execution_count": 31,
   "metadata": {
    "collapsed": false
   },
   "outputs": [
    {
     "name": "stdout",
     "output_type": "stream",
     "text": [
      "WARNING:tensorflow:From /Library/Frameworks/Python.framework/Versions/3.4/lib/python3.4/site-packages/tensorflow/contrib/learn/python/learn/estimators/head.py:1362: scalar_summary (from tensorflow.python.ops.logging_ops) is deprecated and will be removed after 2016-11-30.\n",
      "Instructions for updating:\n",
      "Please switch to tf.summary.scalar. Note that tf.summary.scalar uses the node name instead of the tag. This means that TensorFlow will automatically de-duplicate summary names based on the scope they are created in. Also, passing a tensor or list of tags to a scalar summary op is no longer supported.\n",
      "INFO:tensorflow:Create CheckpointSaverHook.\n",
      "INFO:tensorflow:Saving checkpoints for 10001 into /tmp/iris_model/model.ckpt.\n",
      "INFO:tensorflow:loss = 0.0247549, step = 10001\n",
      "INFO:tensorflow:global_step/sec: 1312.54\n",
      "INFO:tensorflow:loss = 0.0246472, step = 10101\n",
      "INFO:tensorflow:global_step/sec: 1325.16\n",
      "INFO:tensorflow:loss = 0.0245788, step = 10201\n",
      "INFO:tensorflow:global_step/sec: 1389.25\n",
      "INFO:tensorflow:loss = 0.0244684, step = 10301\n",
      "INFO:tensorflow:global_step/sec: 1434.46\n",
      "INFO:tensorflow:loss = 0.0243911, step = 10401\n",
      "INFO:tensorflow:global_step/sec: 1274.34\n",
      "INFO:tensorflow:loss = 0.0242613, step = 10501\n",
      "INFO:tensorflow:global_step/sec: 1385.26\n",
      "INFO:tensorflow:loss = 0.0241666, step = 10601\n",
      "INFO:tensorflow:global_step/sec: 1376.18\n",
      "INFO:tensorflow:loss = 0.0240762, step = 10701\n",
      "INFO:tensorflow:global_step/sec: 1336.7\n",
      "INFO:tensorflow:loss = 0.024036, step = 10801\n",
      "INFO:tensorflow:global_step/sec: 1426.31\n",
      "INFO:tensorflow:loss = 0.0239766, step = 10901\n",
      "INFO:tensorflow:global_step/sec: 1411.83\n",
      "INFO:tensorflow:loss = 0.0238282, step = 11001\n",
      "INFO:tensorflow:global_step/sec: 1358.12\n",
      "INFO:tensorflow:loss = 0.0237261, step = 11101\n",
      "INFO:tensorflow:global_step/sec: 1368.65\n",
      "INFO:tensorflow:loss = 0.0236699, step = 11201\n",
      "INFO:tensorflow:global_step/sec: 1375.87\n",
      "INFO:tensorflow:loss = 0.0235664, step = 11301\n",
      "INFO:tensorflow:global_step/sec: 1432.85\n",
      "INFO:tensorflow:loss = 0.0235137, step = 11401\n",
      "INFO:tensorflow:global_step/sec: 1374.42\n",
      "INFO:tensorflow:loss = 0.0234102, step = 11501\n",
      "INFO:tensorflow:global_step/sec: 1392.58\n",
      "INFO:tensorflow:loss = 0.0233224, step = 11601\n",
      "INFO:tensorflow:global_step/sec: 1404.97\n",
      "INFO:tensorflow:loss = 0.0232377, step = 11701\n",
      "INFO:tensorflow:global_step/sec: 1369.75\n",
      "INFO:tensorflow:loss = 0.0231573, step = 11801\n",
      "INFO:tensorflow:global_step/sec: 1429.71\n",
      "INFO:tensorflow:loss = 0.0230803, step = 11901\n",
      "INFO:tensorflow:Saving checkpoints for 12000 into /tmp/iris_model/model.ckpt.\n",
      "INFO:tensorflow:Loss for final step: 0.0231919.\n"
     ]
    },
    {
     "data": {
      "text/plain": [
       "DNNClassifier(params={'dropout': None, 'embedding_lr_multipliers': None, 'hidden_units': [10, 20, 10], 'input_layer_min_slice_size': None, 'feature_columns': (_RealValuedColumn(column_name='', dimension=4, default_value=None, dtype=tf.float32, normalizer=None),), 'optimizer': None, 'gradient_clip_norm': None, 'activation_fn': <function relu at 0x10bc21e18>, 'head': <tensorflow.contrib.learn.python.learn.estimators.head._MultiClassHead object at 0x11192f160>})"
      ]
     },
     "execution_count": 31,
     "metadata": {},
     "output_type": "execute_result"
    }
   ],
   "source": [
    "# Define the training inputs\n",
    "def get_train_inputs():\n",
    "    x = tf.constant(training_set.data)\n",
    "    y = tf.constant(training_set.target)\n",
    "\n",
    "    return x, y\n",
    "\n",
    "# Fit model.\n",
    "classifier.fit(input_fn=get_train_inputs, steps=2000)"
   ]
  },
  {
   "cell_type": "code",
   "execution_count": 26,
   "metadata": {
    "collapsed": false
   },
   "outputs": [
    {
     "name": "stdout",
     "output_type": "stream",
     "text": [
      "WARNING:tensorflow:From /Library/Frameworks/Python.framework/Versions/3.4/lib/python3.4/site-packages/tensorflow/contrib/learn/python/learn/estimators/head.py:1362: scalar_summary (from tensorflow.python.ops.logging_ops) is deprecated and will be removed after 2016-11-30.\n",
      "Instructions for updating:\n",
      "Please switch to tf.summary.scalar. Note that tf.summary.scalar uses the node name instead of the tag. This means that TensorFlow will automatically de-duplicate summary names based on the scope they are created in. Also, passing a tensor or list of tags to a scalar summary op is no longer supported.\n",
      "INFO:tensorflow:Starting evaluation at 2017-04-10-07:31:07\n",
      "INFO:tensorflow:Evaluation [1/1]\n",
      "INFO:tensorflow:Finished evaluation at 2017-04-10-07:31:07\n",
      "INFO:tensorflow:Saving dict for global step 10000: accuracy = 0.966667, auc = 0.971945, global_step = 10000, loss = 0.21187\n",
      "WARNING:tensorflow:Skipping summary for global_step, must be a float or np.float32.\n",
      "\n",
      "Test Accuracy: 0.966667\n",
      "\n"
     ]
    }
   ],
   "source": [
    "# Define the test inputs\n",
    "def get_test_inputs():\n",
    "    x = tf.constant(test_set.data)\n",
    "    y = tf.constant(test_set.target)\n",
    "\n",
    "    return x, y\n",
    "\n",
    "# Evaluate accuracy.\n",
    "accuracy_score = classifier.evaluate(input_fn=get_test_inputs,\n",
    "                                   steps=1)[\"accuracy\"]\n",
    "\n",
    "print(\"\\nTest Accuracy: {0:f}\\n\".format(accuracy_score))"
   ]
  },
  {
   "cell_type": "code",
   "execution_count": 27,
   "metadata": {
    "collapsed": false
   },
   "outputs": [
    {
     "name": "stdout",
     "output_type": "stream",
     "text": [
      "New Samples, Class Predictions:    [1, 1]\n",
      "\n"
     ]
    }
   ],
   "source": [
    "def new_samples():\n",
    "    return np.array(\n",
    "      [[6.4, 3.2, 4.5, 1.5],\n",
    "       [5.8, 3.1, 5.0, 1.7]], dtype=np.float32)\n",
    "\n",
    "predictions = list(classifier.predict(input_fn=new_samples))\n",
    "\n",
    "print(\n",
    "      \"New Samples, Class Predictions:    {}\\n\"\n",
    "      .format(predictions))\n"
   ]
  },
  {
   "cell_type": "code",
   "execution_count": null,
   "metadata": {
    "collapsed": true
   },
   "outputs": [],
   "source": []
  }
 ],
 "metadata": {
  "kernelspec": {
   "display_name": "Python 3",
   "language": "python",
   "name": "python3"
  },
  "language_info": {
   "codemirror_mode": {
    "name": "ipython",
    "version": 3
   },
   "file_extension": ".py",
   "mimetype": "text/x-python",
   "name": "python",
   "nbconvert_exporter": "python",
   "pygments_lexer": "ipython3",
   "version": "3.4.4"
  }
 },
 "nbformat": 4,
 "nbformat_minor": 2
}
